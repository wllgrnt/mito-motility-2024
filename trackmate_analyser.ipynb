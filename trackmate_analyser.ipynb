{
 "cells": [
  {
   "cell_type": "markdown",
   "metadata": {},
   "source": [
    "# trackmate_analyser.ipynb\n",
    "\n",
    "- input data structure:\n",
    "    - folder for each of three conditions: no_TRAK_77 / TRAK1_79 / TRAK2_78\n",
    "    - each folder has a subfolder for each cell\n",
    "    - each cell subfolder has ‘tracks.csv’, ‘edges.csv’, ‘spots.csv’\n",
    "- output\n",
    "    - the number of backwards and forwards tracks per cell (to be able to plot final stats)\n",
    "    - a graph plotting the tracks (to check that vector is correct)\n",
    "    - speeds for ‘anterograde’ and ‘retrograde’ movement in each condition\n",
    "    - raw: TRACK_ID header with speeds in columns for each track\n",
    "    - stacked: all TRACK_ID speeds stacked in a single column (for histogram)"
   ]
  },
  {
   "cell_type": "code",
   "execution_count": null,
   "metadata": {},
   "outputs": [],
   "source": [
    "import matplotlib.pyplot as plt\n",
    "import numpy as np\n",
    "import os\n",
    "import polars as pl\n",
    "import pandas as pd\n",
    "import seaborn as sns"
   ]
  },
  {
   "cell_type": "markdown",
   "metadata": {},
   "source": [
    "## data processing\n",
    "\n",
    "Generate the dataframe for plotting, with all the raw data across all folders + all the derived cols"
   ]
  },
  {
   "cell_type": "code",
   "execution_count": null,
   "metadata": {},
   "outputs": [],
   "source": [
    "def zero_positions(df):\n",
    "    df = df.sort('FRAME')\n",
    "    return df.with_columns(POSITION_X_ZEROED = df['POSITION_X'] - df['POSITION_X'][0],\n",
    "                    POSITION_Y_ZEROED = df['POSITION_Y'] - df['POSITION_Y'][0],\n",
    "                    POSITION_T_ZEROED = df['POSITION_T'] - df['POSITION_T'][0])\n",
    "\n",
    "def get_rotation_angle(condition, cell, path_to_cell_orientations):\n",
    "    cell_orientations = pl.read_excel(path_to_cell_orientations, sheet_name='angles_per_cell')\n",
    "    angle_df = cell_orientations.filter((pl.col('Cell') == cell) & (pl.col('Condition') == condition))\n",
    "    if len(angle_df) != 1:\n",
    "        return None\n",
    "    else:\n",
    "       return angle_df['angle (rad)'][0]\n",
    "\n",
    "def generate_rotated_spot_positions(cell_path: str, path_to_cell_orientations) -> pd.DataFrame | None:\n",
    "    for file in ['tracks.csv', 'edges.csv', 'spots.csv']:\n",
    "        assert os.path.exists(os.path.join(cell_path, file))\n",
    "\n",
    "    # From tracks.csv, we need the max distance travelled.\n",
    "    tracks_df = pl.read_csv(os.path.join(cell_path, 'tracks.csv'), skip_rows_after_header=3)\n",
    "    assert 'TRACK_ID' in tracks_df.columns\n",
    "    spots_df = pl.read_csv(os.path.join(cell_path, 'spots.csv'), skip_rows_after_header=3)\n",
    "\n",
    "\n",
    "    spots_df = spots_df[['TRACK_ID', 'POSITION_X', 'POSITION_Y', 'POSITION_Z', 'POSITION_T', 'FRAME']]\n",
    "    tracks_df = tracks_df[['TRACK_ID', 'MAX_DISTANCE_TRAVELED',\n",
    "                            'TRACK_MEAN_SPEED',\n",
    "                            'TRACK_MAX_SPEED',\n",
    "                            'TRACK_MIN_SPEED',\n",
    "                            'TRACK_MEDIAN_SPEED',\n",
    "                            'TRACK_STD_SPEED',\n",
    "                            'MEAN_STRAIGHT_LINE_SPEED',\n",
    "                            'MEAN_DIRECTIONAL_CHANGE_RATE']]\n",
    "    spots_with_max_distance = spots_df.join(tracks_df, how='left', on='TRACK_ID', validate='m:1')\n",
    "    spots_with_max_distance_filtered = spots_with_max_distance.sort(by=['TRACK_ID', 'FRAME'])\n",
    "    if not len(spots_with_max_distance_filtered):\n",
    "        print(f'warning!, no points found for cell {cell}, condition {condition}')\n",
    "        return None\n",
    "    spots_zeroed = spots_with_max_distance_filtered.group_by('TRACK_ID').map_groups(zero_positions)\n",
    "    rotation_angle_rads = get_rotation_angle(condition, cell, path_to_cell_orientations)\n",
    "    if rotation_angle_rads is None:\n",
    "        print(f'warning!, no angle found for cell {cell}, condition {condition}')\n",
    "        return None\n",
    "    spots_rotated = spots_zeroed.with_columns(POSITION_X_ROTATED = pl.col('POSITION_X_ZEROED') * np.sin(rotation_angle_rads) -  pl.col('POSITION_Y_ZEROED') * np.cos(rotation_angle_rads),\n",
    "                            POSITION_Y_ROTATED = pl.col('POSITION_X_ZEROED') * np.cos(rotation_angle_rads) +  pl.col('POSITION_Y_ZEROED') * np.sin(rotation_angle_rads))\n",
    "\n",
    "    return spots_rotated  # ignore polars for now\n",
    "\n",
    "def zero_positions(df):\n",
    "    df = df.sort('FRAME')\n",
    "    return df.with_columns(POSITION_X_ZEROED = df['POSITION_X'] - df['POSITION_X'][0],\n",
    "                    POSITION_Y_ZEROED = df['POSITION_Y'] - df['POSITION_Y'][0],\n",
    "                    POSITION_T_ZEROED = df['POSITION_T'] - df['POSITION_T'][0])\n",
    "\n",
    "\n",
    "def get_rotation_angle(condition, cell, path_to_cell_orientations, sheet_name='Sheet1'):\n",
    "    cell_orientations = pl.read_excel(path_to_cell_orientations, sheet_name=sheet_name)\n",
    "    angle_df = cell_orientations.filter((pl.col('cell') == cell) & (pl.col('condition') == condition))\n",
    "    if len(angle_df) != 1:\n",
    "        return None\n",
    "    else:\n",
    "       return angle_df['angle'][0]\n"
   ]
  },
  {
   "cell_type": "code",
   "execution_count": null,
   "metadata": {},
   "outputs": [],
   "source": [
    "dfs = {}\n",
    "edge_dfs = {}\n",
    "\n",
    "# generate the positions over time for each condition, cell, track. plot.\n",
    "for date in ['231027', '231102', '231103', '231117']:\n",
    "    path_to_tracks = f'../input_folder/tracking_results_sub_pixel/{date}'\n",
    "    path_to_cell_orientations= f'{path_to_tracks}/{date}_cell_orientation_coordinates.xlsx'\n",
    "    path_to_plots = f'../plots/{date}'\n",
    "    if not os.path.exists(path_to_plots):\n",
    "        os.mkdir(path_to_plots)\n",
    "    for condition in os.listdir(path_to_tracks):\n",
    "        condition_path = os.path.join(path_to_tracks, condition)\n",
    "        if not os.path.isdir(condition_path):\n",
    "            continue\n",
    "\n",
    "        for cell in os.listdir(condition_path):\n",
    "            cell_path = os.path.join(condition_path, cell)\n",
    "            spots_rotated =  generate_rotated_spot_positions(cell_path, path_to_cell_orientations)\n",
    "            dfs[(date, condition, cell)]  = spots_rotated.to_pandas()  # my polars is insufficient for what follows.    \n",
    "            edge_dfs[(date, condition, cell)] = pl.read_csv(os.path.join(cell_path, 'edges.csv'), skip_rows_after_header=3).to_pandas() "
   ]
  },
  {
   "cell_type": "code",
   "execution_count": null,
   "metadata": {},
   "outputs": [],
   "source": [
    "all_points_df = pd.concat(dfs, keys=dfs.keys()).reset_index(names=['date', 'condition', 'cell', 'index']).drop(columns=['index'])\n",
    "# information on the tracks, one row per track \n",
    "per_track = all_points_df.groupby(['date', 'condition', 'cell', 'TRACK_ID']).agg(\n",
    "    max_distance_traveled=('MAX_DISTANCE_TRAVELED','first'),\n",
    "    track_mean_speed=('TRACK_MEAN_SPEED','first'),\n",
    "    track_max_speed=('TRACK_MAX_SPEED','first'),\n",
    "    track_min_speed=('TRACK_MIN_SPEED','first'),\n",
    "    track_median_speed=('TRACK_MEDIAN_SPEED','first'),\n",
    "    track_std_speed=('TRACK_STD_SPEED','first'),\n",
    "    mean_straight_line_speed=('MEAN_STRAIGHT_LINE_SPEED','first'),\n",
    "    mean_directional_change_rate=('MEAN_DIRECTIONAL_CHANGE_RATE','first'),\n",
    "    final_y_position=('POSITION_Y_ROTATED', 'last'),\n",
    ").reset_index()\n",
    "\n",
    "\n",
    "# as above but with edges\n",
    "\n",
    "all_edges_df = pd.concat(edge_dfs, keys=edge_dfs.keys()).reset_index(names=['date', 'condition', 'cell', 'index']).drop(columns=['index'])\n",
    "all_edges_df_with_track_info = all_edges_df.merge(per_track, how='left', on=['date', 'condition', 'cell', 'TRACK_ID'], validate='m:1')\n"
   ]
  },
  {
   "cell_type": "code",
   "execution_count": null,
   "metadata": {},
   "outputs": [],
   "source": [
    "all_points_df.head()"
   ]
  },
  {
   "cell_type": "code",
   "execution_count": null,
   "metadata": {},
   "outputs": [],
   "source": [
    "per_track.head()"
   ]
  },
  {
   "cell_type": "markdown",
   "metadata": {},
   "source": [
    "## plots\n",
    "\n",
    "Apply some filters to the tracks - then generate the various facets and aggregations we'd like"
   ]
  },
  {
   "cell_type": "code",
   "execution_count": null,
   "metadata": {},
   "outputs": [],
   "source": [
    "all_edges_df_with_track_info"
   ]
  },
  {
   "cell_type": "code",
   "execution_count": null,
   "metadata": {},
   "outputs": [],
   "source": [
    "all_edges_df_with_track_info.columns"
   ]
  },
  {
   "cell_type": "code",
   "execution_count": null,
   "metadata": {},
   "outputs": [],
   "source": [
    "\n",
    "change_rate_filter = 10\n",
    "distance_filter = 3\n",
    "displacement_filter = 0\n",
    "\n",
    "per_track_filtered = per_track[(per_track['max_distance_traveled'] > distance_filter)].copy()\n",
    "\n",
    "all_edges_df_with_track_info['CHANGE_IN_RADS'] = all_edges_df_with_track_info['DIRECTIONAL_CHANGE_RATE'] * (all_edges_df_with_track_info['DISPLACEMENT'] / all_edges_df_with_track_info['SPEED'])\n",
    "all_edges_df_with_track_info['CHANGE_IN_DEGREES'] = all_edges_df_with_track_info['CHANGE_IN_RADS'] * 180 / np.pi\n",
    "\n",
    "all_edges_df_with_track_info_filtered = all_edges_df_with_track_info[(all_edges_df_with_track_info['max_distance_traveled'] > distance_filter) \n",
    "                                                                     & (all_edges_df_with_track_info['CHANGE_IN_DEGREES'] < change_rate_filter) \n",
    "                                                                    # &\n",
    "                                                                    # (all_edges_df_with_track_info['DISPLACEMENT'] > displacement_filter)\n",
    "\n",
    "                                                                     ].copy()\n",
    "\n",
    "all_edges_df_with_track_info_filtered['final_y_is_above_zero'] = all_edges_df_with_track_info_filtered['final_y_position'] > 0\n",
    "\n",
    "print(len(all_edges_df_with_track_info_filtered))"
   ]
  },
  {
   "cell_type": "code",
   "execution_count": null,
   "metadata": {},
   "outputs": [],
   "source": [
    "print(per_track_filtered.groupby('condition').TRACK_ID.nunique())"
   ]
  },
  {
   "cell_type": "markdown",
   "metadata": {},
   "source": [
    "### picking out single tracks"
   ]
  },
  {
   "cell_type": "code",
   "execution_count": null,
   "metadata": {},
   "outputs": [],
   "source": [
    "date = '231103'\n",
    "condition = 'no_TRAK_77'\n",
    "cell = '231103_06'\n",
    "single_cell = all_points_df.query(\" date == @date & condition == @condition & cell == @cell\")\n",
    "\n",
    "for track_id in single_cell['TRACK_ID'].unique():\n",
    "    # save the individual tracks to csvs\n",
    "    single_track = single_cell.query(\"TRACK_ID == @track_id\")\n",
    "    if single_track.MAX_DISTANCE_TRAVELED.iloc[0] > distance_filter:\n",
    "        track_path = f\"tracks/{condition}/i_{track_id}.csv\"\n",
    "    else:\n",
    "        track_path = f\"tracks/{condition}/e_{track_id}.csv\"\n",
    "    single_track[['POSITION_X_ROTATED', 'POSITION_Y_ROTATED', 'MAX_DISTANCE_TRAVELED', 'TRACK_ID']].to_csv(track_path, index=False)"
   ]
  },
  {
   "cell_type": "code",
   "execution_count": null,
   "metadata": {},
   "outputs": [],
   "source": [
    "date = '231103'\n",
    "condition = 'no_TRAK_77'\n",
    "cell = '231103_06'\n",
    "\n",
    "def plot_cell(date, condition, cell, ax, title):\n",
    "    single_cell = all_points_df.query(\" date == @date & condition == @condition & cell == @cell\")\n",
    "\n",
    "    for track_id in single_cell['TRACK_ID'].unique():\n",
    "        single_track = single_cell.query(\"TRACK_ID == @track_id\")\n",
    "        if single_track.MAX_DISTANCE_TRAVELED.iloc[0] > distance_filter:\n",
    "            ax.plot(single_track['POSITION_X_ROTATED'], single_track['POSITION_Y_ROTATED'], alpha=1, zorder=2, linewidth=2 ) #, c='TRACK_ID')\n",
    "        else:\n",
    "            ax.plot(single_track['POSITION_X_ROTATED'], single_track['POSITION_Y_ROTATED'], alpha=0.35, zorder=1, c='grey') #, c='TRACK_ID')\n",
    "    \n",
    "    ax.set_ylim(-10, 10)\n",
    "    ax.set_xlim(-8, 8)\n",
    "    ax.spines['top'].set_visible(False)\n",
    "    ax.spines['right'].set_visible(False)\n",
    "    ax.set_title(title, fontsize=30)\n",
    "\n",
    "fig, axes = plt.subplots(ncols=3, sharey=True, figsize=(30, 10))\n",
    "plot_cell('231103', 'no_TRAK_77', '231103_06', axes[0], title='no TRAK')\n",
    "plot_cell('231103', 'TRAK1_79', '231103_07', axes[1], title='TRAK1 (1-702)')\n",
    "plot_cell('231103', 'TRAK2_78', '231103_07', axes[2], title='TRAK2 (1-700)')\n",
    "for ax in axes:\n",
    "    ax.tick_params(axis='both', which='major', labelsize=30)\n",
    "    ax.set_xlim(-8, 8)\n",
    "    ax.set_ylim(-7, 9)\n",
    "    ax.set_aspect('equal')\n",
    "    ax.set_xticks([-5, 0, 5])\n",
    "    ax.set_yticks([-5, 0, 5])\n",
    "    ax.set_xlabel('aligned x position (µm)', fontsize=30)\n",
    "axes[0].set_ylabel('aligned y position (µm)', fontsize=30)\n",
    "plt.tight_layout()\n",
    "plt.savefig('plots/240110.png', dpi=300, bbox_inches='tight')\n",
    "plt.savefig('plots/240110.svg', bbox_inches='tight')\n",
    "\n",
    "plt.show()\n"
   ]
  },
  {
   "cell_type": "markdown",
   "metadata": {},
   "source": [
    "### Distribution of final y position for TRAK1 and TRAK2"
   ]
  },
  {
   "cell_type": "code",
   "execution_count": null,
   "metadata": {},
   "outputs": [],
   "source": [
    "fig, ax = plt.subplots(figsize=(10, 10))\n",
    "sns.violinplot(hue='condition', x='final_y_position', y='condition', data=per_track_filtered[per_track_filtered['condition'] != 'no_TRAK_77'], cut=0)\n",
    "ax.axvline(0, color='black', linewidth=1.5)\n",
    "plt.show()\n"
   ]
  },
  {
   "cell_type": "code",
   "execution_count": null,
   "metadata": {},
   "outputs": [],
   "source": [
    "trak1_final_y = per_track_filtered[per_track_filtered['condition'] == 'TRAK1_79']['final_y_position'].reset_index(drop=True)\n",
    "trak2_final_y = per_track_filtered[per_track_filtered['condition'] == 'TRAK2_78']['final_y_position'].reset_index(drop=True)\n",
    "max_length = max(len(trak1_final_y), len(trak2_final_y))\n",
    "\n",
    "# Reindex both series to the maximum length\n",
    "trak1_final_y = trak1_final_y.reindex(range(max_length))\n",
    "trak2_final_y = trak2_final_y.reindex(range(max_length))\n",
    "\n",
    "# Create the DataFrame\n",
    "final_y_comparison_table = pd.DataFrame({\n",
    "    'TRAK1_79_final_y_position': trak1_final_y.values,\n",
    "    'TRAK2_78_final_y_position': trak2_final_y.values\n",
    "})\n",
    "\n",
    "final_y_comparison_table.to_csv('final_y_comparison_table.csv', index=False)"
   ]
  },
  {
   "cell_type": "code",
   "execution_count": null,
   "metadata": {},
   "outputs": [],
   "source": [
    "\n",
    "proportions_above_zero = per_track_filtered.groupby('condition')['final_y_position'].apply(lambda x: (x > 0).sum() / len(x))\n",
    "print(proportions_above_zero)"
   ]
  },
  {
   "cell_type": "code",
   "execution_count": null,
   "metadata": {},
   "outputs": [],
   "source": [
    "per_track_filtered[per_track_filtered['condition'] != 'no_TRAK_77']['max_distance_traveled'].describe()"
   ]
  },
  {
   "cell_type": "code",
   "execution_count": null,
   "metadata": {},
   "outputs": [],
   "source": [
    "\n",
    "output_folder = '../output_folder/tracking_results_sub_pixel'\n",
    "\n",
    "if not os.path.exists(output_folder):\n",
    "    os.mkdir(output_folder)\n",
    "\n",
    "\n",
    "trak1_final_y = per_track_filtered[per_track_filtered['condition'] == 'TRAK1_79']['final_y_position']\n",
    "trak2_final_y = per_track_filtered[per_track_filtered['condition'] == 'TRAK2_78']['final_y_position']\n",
    "final_y_comparison = pd.DataFrame({\n",
    "    'TRAK1_79_final_y_position': trak1_final_y.reset_index(drop=True),\n",
    "    'TRAK2_78_final_y_position': trak2_final_y.reset_index(drop=True)\n",
    "})\n",
    "\n",
    "final_y_comparison.to_csv(f'{output_folder}/final_y_comparison.csv')"
   ]
  },
  {
   "cell_type": "markdown",
   "metadata": {},
   "source": [
    "### Distribution of edge speeds depending on whether the final y position is above or below zero"
   ]
  },
  {
   "cell_type": "code",
   "execution_count": null,
   "metadata": {},
   "outputs": [],
   "source": [
    "fig, axes = plt.subplots(ncols=2, sharey=True, figsize=(10, 10))\n",
    "sns.swarmplot(ax=axes[0], hue='condition', y='SPEED', x='final_y_is_above_zero', data=all_edges_df_with_track_info_filtered[all_edges_df_with_track_info_filtered['condition'] == 'TRAK1_79'])\n",
    "sns.swarmplot(ax=axes[1], hue='condition', y='SPEED', x='final_y_is_above_zero', data=all_edges_df_with_track_info_filtered[all_edges_df_with_track_info_filtered['condition'] == 'TRAK2_78'])\n",
    "plt.show()\n"
   ]
  },
  {
   "cell_type": "code",
   "execution_count": null,
   "metadata": {},
   "outputs": [],
   "source": [
    "fig, ax = plt.subplots(figsize=(10, 10))\n",
    "sns.boxplot(x='final_y_is_above_zero', y='SPEED', hue='condition', data=all_edges_df_with_track_info_filtered[all_edges_df_with_track_info_filtered['condition'] != 'no_TRAK_77'])"
   ]
  },
  {
   "cell_type": "code",
   "execution_count": null,
   "metadata": {},
   "outputs": [],
   "source": [
    "up_trak1 = all_edges_df_with_track_info_filtered[(all_edges_df_with_track_info_filtered['condition'] == 'TRAK1_79') & (all_edges_df_with_track_info_filtered['final_y_is_above_zero'] == True)]['SPEED'].reset_index(drop=True)\n",
    "down_trak1 = all_edges_df_with_track_info_filtered[(all_edges_df_with_track_info_filtered['condition'] == 'TRAK1_79') & (all_edges_df_with_track_info_filtered['final_y_is_above_zero'] == False)]['SPEED'].reset_index(drop=True)\n",
    "up_trak2 = all_edges_df_with_track_info_filtered[(all_edges_df_with_track_info_filtered['condition'] == 'TRAK2_78') & (all_edges_df_with_track_info_filtered['final_y_is_above_zero'] == True)]['SPEED'].reset_index(drop=True)\n",
    "down_trak2 = all_edges_df_with_track_info_filtered[(all_edges_df_with_track_info_filtered['condition'] == 'TRAK2_78') & (all_edges_df_with_track_info_filtered['final_y_is_above_zero'] == False)]['SPEED'].reset_index(drop=True)\n",
    "\n",
    "# Create the DataFrame\n",
    "four_condition_table = pd.DataFrame({\n",
    "    'up_trak1': up_trak1,\n",
    "    'down_trak1': down_trak1,\n",
    "    'up_trak2': up_trak2,\n",
    "    'down_trak2': down_trak2\n",
    "})\n",
    "\n",
    "four_condition_table.to_csv('speeds.csv', index=False)"
   ]
  },
  {
   "cell_type": "code",
   "execution_count": null,
   "metadata": {},
   "outputs": [],
   "source": [
    "four_condition_table.count()"
   ]
  },
  {
   "cell_type": "code",
   "execution_count": null,
   "metadata": {},
   "outputs": [],
   "source": [
    "all_edges_df_with_track_info_filtered[all_edges_df_with_track_info_filtered['condition'] != 'no_TRAK_77'].groupby(['condition', 'final_y_is_above_zero']).count()"
   ]
  },
  {
   "cell_type": "code",
   "execution_count": null,
   "metadata": {},
   "outputs": [],
   "source": [
    "up_trak1 = per_track_filtered[(per_track_filtered['condition'] == 'TRAK1_79') & (per_track_filtered['final_y_position'] > 0)]['track_mean_speed'].reset_index(drop=True)\n",
    "down_trak1 = per_track_filtered[(per_track_filtered['condition'] == 'TRAK1_79') & (per_track_filtered['final_y_position'] <= 0)]['track_mean_speed'].reset_index(drop=True)\n",
    "up_trak2 = per_track_filtered[(per_track_filtered['condition'] == 'TRAK2_78') & (per_track_filtered['final_y_position'] > 0)]['track_mean_speed'].reset_index(drop=True)\n",
    "down_trak2 = per_track_filtered[(per_track_filtered['condition'] == 'TRAK2_78') & (per_track_filtered['final_y_position'] <= 0)]['track_mean_speed'].reset_index(drop=True)\n",
    "\n",
    "# Create the DataFrame\n",
    "four_condition_track_table = pd.DataFrame({\n",
    "    'up_trak1': up_trak1,\n",
    "    'down_trak1': down_trak1,\n",
    "    'up_trak2': up_trak2,\n",
    "    'down_trak2': down_trak2\n",
    "})\n",
    "\n",
    "four_condition_track_table.to_csv('track_speeds.csv', index=False)"
   ]
  },
  {
   "cell_type": "code",
   "execution_count": null,
   "metadata": {},
   "outputs": [],
   "source": [
    "four_condition_track_table"
   ]
  },
  {
   "cell_type": "code",
   "execution_count": null,
   "metadata": {},
   "outputs": [],
   "source": []
  },
  {
   "cell_type": "code",
   "execution_count": null,
   "metadata": {},
   "outputs": [],
   "source": [
    "per_track_filtered"
   ]
  },
  {
   "cell_type": "code",
   "execution_count": null,
   "metadata": {},
   "outputs": [],
   "source": [
    "per_track_filtered.groupby('condition').count()"
   ]
  },
  {
   "cell_type": "code",
   "execution_count": null,
   "metadata": {},
   "outputs": [],
   "source": [
    "per_track.groupby('condition').count()"
   ]
  },
  {
   "cell_type": "code",
   "execution_count": null,
   "metadata": {},
   "outputs": [],
   "source": [
    "per_track.groupby('condition').TRACK_ID.nunique()"
   ]
  },
  {
   "cell_type": "code",
   "execution_count": null,
   "metadata": {},
   "outputs": [],
   "source": [
    "per_track.groupby('condition').cell.nunique()"
   ]
  },
  {
   "cell_type": "code",
   "execution_count": null,
   "metadata": {},
   "outputs": [],
   "source": [
    "all_edges_df.groupby('condition').TRACK_ID.nunique()\n"
   ]
  },
  {
   "cell_type": "code",
   "execution_count": null,
   "metadata": {},
   "outputs": [],
   "source": [
    "# cells without filter per condition.\n",
    "# tracks per condition without filter\n",
    " "
   ]
  }
 ],
 "metadata": {
  "kernelspec": {
   "display_name": "py3_11",
   "language": "python",
   "name": "python3"
  },
  "language_info": {
   "codemirror_mode": {
    "name": "ipython",
    "version": 3
   },
   "file_extension": ".py",
   "mimetype": "text/x-python",
   "name": "python",
   "nbconvert_exporter": "python",
   "pygments_lexer": "ipython3",
   "version": "3.11.9"
  }
 },
 "nbformat": 4,
 "nbformat_minor": 2
}
